{
  "metadata": {
    "language_info": {
      "codemirror_mode": {
        "name": "python",
        "version": 3
      },
      "file_extension": ".py",
      "mimetype": "text/x-python",
      "name": "python",
      "nbconvert_exporter": "python",
      "pygments_lexer": "ipython3",
      "version": "3.8"
    },
    "kernelspec": {
      "name": "python",
      "display_name": "Python (Pyodide)",
      "language": "python"
    }
  },
  "nbformat_minor": 4,
  "nbformat": 4,
  "cells": [
    {
      "cell_type": "code",
      "source": "import pandas as pd\n",
      "metadata": {
        "trusted": true
      },
      "execution_count": 51,
      "outputs": []
    },
    {
      "cell_type": "code",
      "source": "movies = pd.read_csv(\"movies.csv\")",
      "metadata": {
        "trusted": true
      },
      "execution_count": 2,
      "outputs": []
    },
    {
      "cell_type": "code",
      "source": "movies",
      "metadata": {
        "trusted": true
      },
      "execution_count": 3,
      "outputs": [
        {
          "execution_count": 3,
          "output_type": "execute_result",
          "data": {
            "text/plain": "                                   09) Adventure|Mystery|Sci-Fi\n164037  The Candy Tangerine Man (1975)             Action|Drama\n164039       Return of the Atom (2015)              Documentary\n164041          The Piano Tuner (2011)           Drama|Thriller\n164043    Desculpe o Transtorno (2016)                   Comedy\n164045        Daisy-Head Mayzie (1995)       (no genres listed)\n...                                ...                      ...\n209157                       We (2018)                    Drama\n209159       Window of the Soul (2001)              Documentary\n209163                Bad Poems (2018)             Comedy|Drama\n209169             A Girl Thing (2001)       (no genres listed)\n209171  Women of Devil's Island (1962)   Action|Adventure|Drama\n\n[19905 rows x 2 columns]",
            "text/html": "<div>\n<style scoped>\n    .dataframe tbody tr th:only-of-type {\n        vertical-align: middle;\n    }\n\n    .dataframe tbody tr th {\n        vertical-align: top;\n    }\n\n    .dataframe thead th {\n        text-align: right;\n    }\n</style>\n<table border=\"1\" class=\"dataframe\">\n  <thead>\n    <tr style=\"text-align: right;\">\n      <th></th>\n      <th>09)</th>\n      <th>Adventure|Mystery|Sci-Fi</th>\n    </tr>\n  </thead>\n  <tbody>\n    <tr>\n      <th>164037</th>\n      <td>The Candy Tangerine Man (1975)</td>\n      <td>Action|Drama</td>\n    </tr>\n    <tr>\n      <th>164039</th>\n      <td>Return of the Atom (2015)</td>\n      <td>Documentary</td>\n    </tr>\n    <tr>\n      <th>164041</th>\n      <td>The Piano Tuner (2011)</td>\n      <td>Drama|Thriller</td>\n    </tr>\n    <tr>\n      <th>164043</th>\n      <td>Desculpe o Transtorno (2016)</td>\n      <td>Comedy</td>\n    </tr>\n    <tr>\n      <th>164045</th>\n      <td>Daisy-Head Mayzie (1995)</td>\n      <td>(no genres listed)</td>\n    </tr>\n    <tr>\n      <th>...</th>\n      <td>...</td>\n      <td>...</td>\n    </tr>\n    <tr>\n      <th>209157</th>\n      <td>We (2018)</td>\n      <td>Drama</td>\n    </tr>\n    <tr>\n      <th>209159</th>\n      <td>Window of the Soul (2001)</td>\n      <td>Documentary</td>\n    </tr>\n    <tr>\n      <th>209163</th>\n      <td>Bad Poems (2018)</td>\n      <td>Comedy|Drama</td>\n    </tr>\n    <tr>\n      <th>209169</th>\n      <td>A Girl Thing (2001)</td>\n      <td>(no genres listed)</td>\n    </tr>\n    <tr>\n      <th>209171</th>\n      <td>Women of Devil's Island (1962)</td>\n      <td>Action|Adventure|Drama</td>\n    </tr>\n  </tbody>\n</table>\n<p>19905 rows × 2 columns</p>\n</div>"
          },
          "metadata": {}
        }
      ]
    },
    {
      "cell_type": "code",
      "source": "import re\n\ndef clean_title(title):\n    return re.sub(\"[^a-zA-Z0-9 ]\", \"\", title)",
      "metadata": {
        "trusted": true
      },
      "execution_count": 4,
      "outputs": []
    },
    {
      "cell_type": "code",
      "source": "movies[\"clean_title\"] = movies [\"09)\"].apply(clean_title)",
      "metadata": {
        "trusted": true
      },
      "execution_count": 7,
      "outputs": []
    },
    {
      "cell_type": "code",
      "source": "movies\n",
      "metadata": {
        "trusted": true
      },
      "execution_count": 8,
      "outputs": [
        {
          "execution_count": 8,
          "output_type": "execute_result",
          "data": {
            "text/plain": "                                   09) Adventure|Mystery|Sci-Fi  \\\n164037  The Candy Tangerine Man (1975)             Action|Drama   \n164039       Return of the Atom (2015)              Documentary   \n164041          The Piano Tuner (2011)           Drama|Thriller   \n164043    Desculpe o Transtorno (2016)                   Comedy   \n164045        Daisy-Head Mayzie (1995)       (no genres listed)   \n...                                ...                      ...   \n209157                       We (2018)                    Drama   \n209159       Window of the Soul (2001)              Documentary   \n209163                Bad Poems (2018)             Comedy|Drama   \n209169             A Girl Thing (2001)       (no genres listed)   \n209171  Women of Devil's Island (1962)   Action|Adventure|Drama   \n\n                         clean_title  \n164037  The Candy Tangerine Man 1975  \n164039       Return of the Atom 2015  \n164041          The Piano Tuner 2011  \n164043    Desculpe o Transtorno 2016  \n164045         DaisyHead Mayzie 1995  \n...                              ...  \n209157                       We 2018  \n209159       Window of the Soul 2001  \n209163                Bad Poems 2018  \n209169             A Girl Thing 2001  \n209171   Women of Devils Island 1962  \n\n[19905 rows x 3 columns]",
            "text/html": "<div>\n<style scoped>\n    .dataframe tbody tr th:only-of-type {\n        vertical-align: middle;\n    }\n\n    .dataframe tbody tr th {\n        vertical-align: top;\n    }\n\n    .dataframe thead th {\n        text-align: right;\n    }\n</style>\n<table border=\"1\" class=\"dataframe\">\n  <thead>\n    <tr style=\"text-align: right;\">\n      <th></th>\n      <th>09)</th>\n      <th>Adventure|Mystery|Sci-Fi</th>\n      <th>clean_title</th>\n    </tr>\n  </thead>\n  <tbody>\n    <tr>\n      <th>164037</th>\n      <td>The Candy Tangerine Man (1975)</td>\n      <td>Action|Drama</td>\n      <td>The Candy Tangerine Man 1975</td>\n    </tr>\n    <tr>\n      <th>164039</th>\n      <td>Return of the Atom (2015)</td>\n      <td>Documentary</td>\n      <td>Return of the Atom 2015</td>\n    </tr>\n    <tr>\n      <th>164041</th>\n      <td>The Piano Tuner (2011)</td>\n      <td>Drama|Thriller</td>\n      <td>The Piano Tuner 2011</td>\n    </tr>\n    <tr>\n      <th>164043</th>\n      <td>Desculpe o Transtorno (2016)</td>\n      <td>Comedy</td>\n      <td>Desculpe o Transtorno 2016</td>\n    </tr>\n    <tr>\n      <th>164045</th>\n      <td>Daisy-Head Mayzie (1995)</td>\n      <td>(no genres listed)</td>\n      <td>DaisyHead Mayzie 1995</td>\n    </tr>\n    <tr>\n      <th>...</th>\n      <td>...</td>\n      <td>...</td>\n      <td>...</td>\n    </tr>\n    <tr>\n      <th>209157</th>\n      <td>We (2018)</td>\n      <td>Drama</td>\n      <td>We 2018</td>\n    </tr>\n    <tr>\n      <th>209159</th>\n      <td>Window of the Soul (2001)</td>\n      <td>Documentary</td>\n      <td>Window of the Soul 2001</td>\n    </tr>\n    <tr>\n      <th>209163</th>\n      <td>Bad Poems (2018)</td>\n      <td>Comedy|Drama</td>\n      <td>Bad Poems 2018</td>\n    </tr>\n    <tr>\n      <th>209169</th>\n      <td>A Girl Thing (2001)</td>\n      <td>(no genres listed)</td>\n      <td>A Girl Thing 2001</td>\n    </tr>\n    <tr>\n      <th>209171</th>\n      <td>Women of Devil's Island (1962)</td>\n      <td>Action|Adventure|Drama</td>\n      <td>Women of Devils Island 1962</td>\n    </tr>\n  </tbody>\n</table>\n<p>19905 rows × 3 columns</p>\n</div>"
          },
          "metadata": {}
        }
      ]
    },
    {
      "cell_type": "code",
      "source": "#Inverse Document Frequency\n#Tf*Idf",
      "metadata": {
        "trusted": true
      },
      "execution_count": 10,
      "outputs": []
    },
    {
      "cell_type": "code",
      "source": "from sklearn.feature_extraction.text import TfidfVectorizer\n\nvectorizer = TfidfVectorizer(ngram_range=(1,2))\n\ntfidf = vectorizer.fit_transform(movies[\"clean_title\"])",
      "metadata": {
        "trusted": true
      },
      "execution_count": 14,
      "outputs": []
    },
    {
      "cell_type": "code",
      "source": "from sklearn.metrics.pairwise import cosine_similarity\nimport numpy as np\n\ndef search(title):\n    \n    title = clean_title(title)\n    query_vec = vectorizer.transform([title])\n    similarity = cosine_similarity(query_vec, tfidf).flatten()\n    indices = np.argpartition(similarity, -5) [-5:]\n    results  = movies.iloc[indices] [::-1]\n\n    return results",
      "metadata": {
        "trusted": true
      },
      "execution_count": 57,
      "outputs": []
    },
    {
      "cell_type": "code",
      "source": "import ipywidgets as widgets\nfrom IPython.display import display\n\nmovie_input = widgets.Text(\n    value = \"Toy Story\",\n    description = \"Movie Title:\",\n    disabled = False\n)\nmovie_list = widgets.Output()\n\ndef on_type(data):\n    with movie_list:\n        movie_list.clear_output()\n        title = data[\"new\"]\n        if len(title) > 5:\n                     display(search(title))\n\nmovie_input.observe(on_type, names='value')\n\ndisplay(movie_input, movie_list)",
      "metadata": {
        "trusted": true
      },
      "execution_count": 54,
      "outputs": [
        {
          "ename": "<class 'ModuleNotFoundError'>",
          "evalue": "No module named 'ipywidgets'",
          "traceback": [
            "\u001b[0;31m---------------------------------------------------------------------------\u001b[0m",
            "\u001b[0;31mModuleNotFoundError\u001b[0m                       Traceback (most recent call last)",
            "Input \u001b[0;32mIn [54]\u001b[0m, in \u001b[0;36m<cell line: 1>\u001b[0;34m()\u001b[0m\n\u001b[0;32m----> 1\u001b[0m \u001b[38;5;28;01mimport\u001b[39;00m \u001b[38;5;21;01mipywidgets\u001b[39;00m \u001b[38;5;28;01mas\u001b[39;00m \u001b[38;5;21;01mwidgets\u001b[39;00m\n\u001b[1;32m      2\u001b[0m \u001b[38;5;28;01mfrom\u001b[39;00m \u001b[38;5;21;01mIPython\u001b[39;00m\u001b[38;5;21;01m.\u001b[39;00m\u001b[38;5;21;01mdisplay\u001b[39;00m \u001b[38;5;28;01mimport\u001b[39;00m display\n\u001b[1;32m      4\u001b[0m movie_input \u001b[38;5;241m=\u001b[39m widgets\u001b[38;5;241m.\u001b[39mText(\n\u001b[1;32m      5\u001b[0m     value \u001b[38;5;241m=\u001b[39m \u001b[38;5;124m\"\u001b[39m\u001b[38;5;124mToy Story\u001b[39m\u001b[38;5;124m\"\u001b[39m,\n\u001b[1;32m      6\u001b[0m     description \u001b[38;5;241m=\u001b[39m \u001b[38;5;124m\"\u001b[39m\u001b[38;5;124mMovie Title:\u001b[39m\u001b[38;5;124m\"\u001b[39m,\n\u001b[1;32m      7\u001b[0m     disabled \u001b[38;5;241m=\u001b[39m \u001b[38;5;28;01mFalse\u001b[39;00m\n\u001b[1;32m      8\u001b[0m )\n",
            "\u001b[0;31mModuleNotFoundError\u001b[0m: No module named 'ipywidgets'"
          ],
          "output_type": "error"
        }
      ]
    },
    {
      "cell_type": "code",
      "source": "ratings = pd.read_csv(\"ratings.csv\")",
      "metadata": {
        "trusted": true
      },
      "execution_count": 58,
      "outputs": []
    },
    {
      "cell_type": "code",
      "source": "ratings",
      "metadata": {
        "trusted": true
      },
      "execution_count": 60,
      "outputs": [
        {
          "execution_count": 60,
          "output_type": "execute_result",
          "data": {
            "text/plain": "       31776  714  3.0  1526670549\n0      31776  733  5.0  1429821067\n1      31776  736  3.0  1484618080\n2      31776  743  2.0  1444758524\n3      31776  750  4.0  1429819992\n4      31776  761  2.0  1445016319\n...      ...  ...  ...         ...\n38988  32035  110  4.0  1063723756\n38989  32035  111  4.5  1064454924\n38990  32035  145  3.5  1063724548\n38991  32035  163  4.0  1063723987\n38992  32035  165  4.0      106372\n\n[38993 rows x 4 columns]",
            "text/html": "<div>\n<style scoped>\n    .dataframe tbody tr th:only-of-type {\n        vertical-align: middle;\n    }\n\n    .dataframe tbody tr th {\n        vertical-align: top;\n    }\n\n    .dataframe thead th {\n        text-align: right;\n    }\n</style>\n<table border=\"1\" class=\"dataframe\">\n  <thead>\n    <tr style=\"text-align: right;\">\n      <th></th>\n      <th>31776</th>\n      <th>714</th>\n      <th>3.0</th>\n      <th>1526670549</th>\n    </tr>\n  </thead>\n  <tbody>\n    <tr>\n      <th>0</th>\n      <td>31776</td>\n      <td>733</td>\n      <td>5.0</td>\n      <td>1429821067</td>\n    </tr>\n    <tr>\n      <th>1</th>\n      <td>31776</td>\n      <td>736</td>\n      <td>3.0</td>\n      <td>1484618080</td>\n    </tr>\n    <tr>\n      <th>2</th>\n      <td>31776</td>\n      <td>743</td>\n      <td>2.0</td>\n      <td>1444758524</td>\n    </tr>\n    <tr>\n      <th>3</th>\n      <td>31776</td>\n      <td>750</td>\n      <td>4.0</td>\n      <td>1429819992</td>\n    </tr>\n    <tr>\n      <th>4</th>\n      <td>31776</td>\n      <td>761</td>\n      <td>2.0</td>\n      <td>1445016319</td>\n    </tr>\n    <tr>\n      <th>...</th>\n      <td>...</td>\n      <td>...</td>\n      <td>...</td>\n      <td>...</td>\n    </tr>\n    <tr>\n      <th>38988</th>\n      <td>32035</td>\n      <td>110</td>\n      <td>4.0</td>\n      <td>1063723756</td>\n    </tr>\n    <tr>\n      <th>38989</th>\n      <td>32035</td>\n      <td>111</td>\n      <td>4.5</td>\n      <td>1064454924</td>\n    </tr>\n    <tr>\n      <th>38990</th>\n      <td>32035</td>\n      <td>145</td>\n      <td>3.5</td>\n      <td>1063724548</td>\n    </tr>\n    <tr>\n      <th>38991</th>\n      <td>32035</td>\n      <td>163</td>\n      <td>4.0</td>\n      <td>1063723987</td>\n    </tr>\n    <tr>\n      <th>38992</th>\n      <td>32035</td>\n      <td>165</td>\n      <td>4.0</td>\n      <td>106372</td>\n    </tr>\n  </tbody>\n</table>\n<p>38993 rows × 4 columns</p>\n</div>"
          },
          "metadata": {}
        }
      ]
    },
    {
      "cell_type": "code",
      "source": "ratings.dtypes",
      "metadata": {
        "trusted": true
      },
      "execution_count": 61,
      "outputs": [
        {
          "execution_count": 61,
          "output_type": "execute_result",
          "data": {
            "text/plain": "31776           int64\n714             int64\n3.0           float64\n1526670549      int64\ndtype: object"
          },
          "metadata": {}
        }
      ]
    },
    {
      "cell_type": "code",
      "source": "similar_users = ratings[(ratings[\"714\"] == 714) & (ratings[\"3.0\"] >= 5)][\"31776\"].unique()",
      "metadata": {
        "trusted": true
      },
      "execution_count": 66,
      "outputs": []
    },
    {
      "cell_type": "code",
      "source": "similar_users",
      "metadata": {
        "trusted": true
      },
      "execution_count": 67,
      "outputs": [
        {
          "execution_count": 67,
          "output_type": "execute_result",
          "data": {
            "text/plain": "array([32033], dtype=int64)"
          },
          "metadata": {}
        }
      ]
    },
    {
      "cell_type": "code",
      "source": "similar_users_recs = ratings[(ratings[\"31776\"].isin(similar_users)) & (ratings[\"3.0\"] > 4)][\"714\"]",
      "metadata": {
        "trusted": true
      },
      "execution_count": 77,
      "outputs": []
    },
    {
      "cell_type": "code",
      "source": "similar_users_recs",
      "metadata": {
        "trusted": true
      },
      "execution_count": 78,
      "outputs": [
        {
          "execution_count": 78,
          "output_type": "execute_result",
          "data": {
            "text/plain": "38712       1\n38715      21\n38716      25\n38717      32\n38718      36\n38719      52\n38720      58\n38721      62\n38724      85\n38726     123\n38730     194\n38734     232\n38735     235\n38738     265\n38741     296\n38742     300\n38745     306\n38746     307\n38747     308\n38748     318\n38750     337\n38760     471\n38766     534\n38768     538\n38772     588\n38774     595\n38775     608\n38781     714\n38782     728\n38783     750\n38784     778\n38786     908\n38787     912\n38793    1041\n38796    1079\n38797    1080\n38799    1094\n38800    1136\n38801    1172\n38803    1177\n38806    1193\n38808    1197\n38810    1199\n38811    1206\n38812    1208\n38818    1230\n38821    1235\n38822    1245\n38823    1246\n38824    1247\n38826    1265\n38827    1266\n38832    1295\n38833    1296\n38834    1307\nName: 714, dtype: int64"
          },
          "metadata": {}
        }
      ]
    },
    {
      "cell_type": "code",
      "source": "similar_users_recs.value_counts() / len(similar_users)\n\nsimilar_users_recs = similar_users_recs[similar_users_recs > .1]",
      "metadata": {
        "trusted": true
      },
      "execution_count": 84,
      "outputs": []
    },
    {
      "cell_type": "code",
      "source": "similar_users_recs",
      "metadata": {
        "trusted": true
      },
      "execution_count": 85,
      "outputs": [
        {
          "execution_count": 85,
          "output_type": "execute_result",
          "data": {
            "text/plain": "38712       1\n38715      21\n38716      25\n38717      32\n38718      36\n38719      52\n38720      58\n38721      62\n38724      85\n38726     123\n38730     194\n38734     232\n38735     235\n38738     265\n38741     296\n38742     300\n38745     306\n38746     307\n38747     308\n38748     318\n38750     337\n38760     471\n38766     534\n38768     538\n38772     588\n38774     595\n38775     608\n38781     714\n38782     728\n38783     750\n38784     778\n38786     908\n38787     912\n38793    1041\n38796    1079\n38797    1080\n38799    1094\n38800    1136\n38801    1172\n38803    1177\n38806    1193\n38808    1197\n38810    1199\n38811    1206\n38812    1208\n38818    1230\n38821    1235\n38822    1245\n38823    1246\n38824    1247\n38826    1265\n38827    1266\n38832    1295\n38833    1296\n38834    1307\nName: 714, dtype: int64"
          },
          "metadata": {}
        }
      ]
    },
    {
      "cell_type": "code",
      "source": "all_users = ratings[(ratings[\"31776\"].isin(similar_users_recs.index)) & (ratings[\"3.0\"] > 4)]",
      "metadata": {
        "trusted": true
      },
      "execution_count": 90,
      "outputs": []
    },
    {
      "cell_type": "code",
      "source": "all_users",
      "metadata": {
        "trusted": true
      },
      "execution_count": 91,
      "outputs": [
        {
          "execution_count": 91,
          "output_type": "execute_result",
          "data": {
            "text/plain": "Empty DataFrame\nColumns: [31776, 714, 3.0, 1526670549]\nIndex: []",
            "text/html": "<div>\n<style scoped>\n    .dataframe tbody tr th:only-of-type {\n        vertical-align: middle;\n    }\n\n    .dataframe tbody tr th {\n        vertical-align: top;\n    }\n\n    .dataframe thead th {\n        text-align: right;\n    }\n</style>\n<table border=\"1\" class=\"dataframe\">\n  <thead>\n    <tr style=\"text-align: right;\">\n      <th></th>\n      <th>31776</th>\n      <th>714</th>\n      <th>3.0</th>\n      <th>1526670549</th>\n    </tr>\n  </thead>\n  <tbody>\n  </tbody>\n</table>\n</div>"
          },
          "metadata": {}
        }
      ]
    },
    {
      "cell_type": "code",
      "source": "all_users_recs = all_users[\"714\"].value_counts() / len(all_users[\"31776\"].unique())",
      "metadata": {
        "trusted": true
      },
      "execution_count": 93,
      "outputs": []
    },
    {
      "cell_type": "code",
      "source": "all_users_recs",
      "metadata": {
        "trusted": true
      },
      "execution_count": 94,
      "outputs": [
        {
          "execution_count": 94,
          "output_type": "execute_result",
          "data": {
            "text/plain": "Series([], Name: 714, dtype: float64)"
          },
          "metadata": {}
        }
      ]
    },
    {
      "cell_type": "code",
      "source": "rec_percentages = pd.concat([similar_users_recs, all_users_recs] , axis=1)\nrec_percentages.columns = [\"similar\", \"all\"]",
      "metadata": {
        "trusted": true
      },
      "execution_count": 97,
      "outputs": []
    },
    {
      "cell_type": "code",
      "source": "rec_percentages",
      "metadata": {
        "trusted": true
      },
      "execution_count": 98,
      "outputs": [
        {
          "execution_count": 98,
          "output_type": "execute_result",
          "data": {
            "text/plain": "       similar  all\n38712        1  NaN\n38715       21  NaN\n38716       25  NaN\n38717       32  NaN\n38718       36  NaN\n38719       52  NaN\n38720       58  NaN\n38721       62  NaN\n38724       85  NaN\n38726      123  NaN\n38730      194  NaN\n38734      232  NaN\n38735      235  NaN\n38738      265  NaN\n38741      296  NaN\n38742      300  NaN\n38745      306  NaN\n38746      307  NaN\n38747      308  NaN\n38748      318  NaN\n38750      337  NaN\n38760      471  NaN\n38766      534  NaN\n38768      538  NaN\n38772      588  NaN\n38774      595  NaN\n38775      608  NaN\n38781      714  NaN\n38782      728  NaN\n38783      750  NaN\n38784      778  NaN\n38786      908  NaN\n38787      912  NaN\n38793     1041  NaN\n38796     1079  NaN\n38797     1080  NaN\n38799     1094  NaN\n38800     1136  NaN\n38801     1172  NaN\n38803     1177  NaN\n38806     1193  NaN\n38808     1197  NaN\n38810     1199  NaN\n38811     1206  NaN\n38812     1208  NaN\n38818     1230  NaN\n38821     1235  NaN\n38822     1245  NaN\n38823     1246  NaN\n38824     1247  NaN\n38826     1265  NaN\n38827     1266  NaN\n38832     1295  NaN\n38833     1296  NaN\n38834     1307  NaN",
            "text/html": "<div>\n<style scoped>\n    .dataframe tbody tr th:only-of-type {\n        vertical-align: middle;\n    }\n\n    .dataframe tbody tr th {\n        vertical-align: top;\n    }\n\n    .dataframe thead th {\n        text-align: right;\n    }\n</style>\n<table border=\"1\" class=\"dataframe\">\n  <thead>\n    <tr style=\"text-align: right;\">\n      <th></th>\n      <th>similar</th>\n      <th>all</th>\n    </tr>\n  </thead>\n  <tbody>\n    <tr>\n      <th>38712</th>\n      <td>1</td>\n      <td>NaN</td>\n    </tr>\n    <tr>\n      <th>38715</th>\n      <td>21</td>\n      <td>NaN</td>\n    </tr>\n    <tr>\n      <th>38716</th>\n      <td>25</td>\n      <td>NaN</td>\n    </tr>\n    <tr>\n      <th>38717</th>\n      <td>32</td>\n      <td>NaN</td>\n    </tr>\n    <tr>\n      <th>38718</th>\n      <td>36</td>\n      <td>NaN</td>\n    </tr>\n    <tr>\n      <th>38719</th>\n      <td>52</td>\n      <td>NaN</td>\n    </tr>\n    <tr>\n      <th>38720</th>\n      <td>58</td>\n      <td>NaN</td>\n    </tr>\n    <tr>\n      <th>38721</th>\n      <td>62</td>\n      <td>NaN</td>\n    </tr>\n    <tr>\n      <th>38724</th>\n      <td>85</td>\n      <td>NaN</td>\n    </tr>\n    <tr>\n      <th>38726</th>\n      <td>123</td>\n      <td>NaN</td>\n    </tr>\n    <tr>\n      <th>38730</th>\n      <td>194</td>\n      <td>NaN</td>\n    </tr>\n    <tr>\n      <th>38734</th>\n      <td>232</td>\n      <td>NaN</td>\n    </tr>\n    <tr>\n      <th>38735</th>\n      <td>235</td>\n      <td>NaN</td>\n    </tr>\n    <tr>\n      <th>38738</th>\n      <td>265</td>\n      <td>NaN</td>\n    </tr>\n    <tr>\n      <th>38741</th>\n      <td>296</td>\n      <td>NaN</td>\n    </tr>\n    <tr>\n      <th>38742</th>\n      <td>300</td>\n      <td>NaN</td>\n    </tr>\n    <tr>\n      <th>38745</th>\n      <td>306</td>\n      <td>NaN</td>\n    </tr>\n    <tr>\n      <th>38746</th>\n      <td>307</td>\n      <td>NaN</td>\n    </tr>\n    <tr>\n      <th>38747</th>\n      <td>308</td>\n      <td>NaN</td>\n    </tr>\n    <tr>\n      <th>38748</th>\n      <td>318</td>\n      <td>NaN</td>\n    </tr>\n    <tr>\n      <th>38750</th>\n      <td>337</td>\n      <td>NaN</td>\n    </tr>\n    <tr>\n      <th>38760</th>\n      <td>471</td>\n      <td>NaN</td>\n    </tr>\n    <tr>\n      <th>38766</th>\n      <td>534</td>\n      <td>NaN</td>\n    </tr>\n    <tr>\n      <th>38768</th>\n      <td>538</td>\n      <td>NaN</td>\n    </tr>\n    <tr>\n      <th>38772</th>\n      <td>588</td>\n      <td>NaN</td>\n    </tr>\n    <tr>\n      <th>38774</th>\n      <td>595</td>\n      <td>NaN</td>\n    </tr>\n    <tr>\n      <th>38775</th>\n      <td>608</td>\n      <td>NaN</td>\n    </tr>\n    <tr>\n      <th>38781</th>\n      <td>714</td>\n      <td>NaN</td>\n    </tr>\n    <tr>\n      <th>38782</th>\n      <td>728</td>\n      <td>NaN</td>\n    </tr>\n    <tr>\n      <th>38783</th>\n      <td>750</td>\n      <td>NaN</td>\n    </tr>\n    <tr>\n      <th>38784</th>\n      <td>778</td>\n      <td>NaN</td>\n    </tr>\n    <tr>\n      <th>38786</th>\n      <td>908</td>\n      <td>NaN</td>\n    </tr>\n    <tr>\n      <th>38787</th>\n      <td>912</td>\n      <td>NaN</td>\n    </tr>\n    <tr>\n      <th>38793</th>\n      <td>1041</td>\n      <td>NaN</td>\n    </tr>\n    <tr>\n      <th>38796</th>\n      <td>1079</td>\n      <td>NaN</td>\n    </tr>\n    <tr>\n      <th>38797</th>\n      <td>1080</td>\n      <td>NaN</td>\n    </tr>\n    <tr>\n      <th>38799</th>\n      <td>1094</td>\n      <td>NaN</td>\n    </tr>\n    <tr>\n      <th>38800</th>\n      <td>1136</td>\n      <td>NaN</td>\n    </tr>\n    <tr>\n      <th>38801</th>\n      <td>1172</td>\n      <td>NaN</td>\n    </tr>\n    <tr>\n      <th>38803</th>\n      <td>1177</td>\n      <td>NaN</td>\n    </tr>\n    <tr>\n      <th>38806</th>\n      <td>1193</td>\n      <td>NaN</td>\n    </tr>\n    <tr>\n      <th>38808</th>\n      <td>1197</td>\n      <td>NaN</td>\n    </tr>\n    <tr>\n      <th>38810</th>\n      <td>1199</td>\n      <td>NaN</td>\n    </tr>\n    <tr>\n      <th>38811</th>\n      <td>1206</td>\n      <td>NaN</td>\n    </tr>\n    <tr>\n      <th>38812</th>\n      <td>1208</td>\n      <td>NaN</td>\n    </tr>\n    <tr>\n      <th>38818</th>\n      <td>1230</td>\n      <td>NaN</td>\n    </tr>\n    <tr>\n      <th>38821</th>\n      <td>1235</td>\n      <td>NaN</td>\n    </tr>\n    <tr>\n      <th>38822</th>\n      <td>1245</td>\n      <td>NaN</td>\n    </tr>\n    <tr>\n      <th>38823</th>\n      <td>1246</td>\n      <td>NaN</td>\n    </tr>\n    <tr>\n      <th>38824</th>\n      <td>1247</td>\n      <td>NaN</td>\n    </tr>\n    <tr>\n      <th>38826</th>\n      <td>1265</td>\n      <td>NaN</td>\n    </tr>\n    <tr>\n      <th>38827</th>\n      <td>1266</td>\n      <td>NaN</td>\n    </tr>\n    <tr>\n      <th>38832</th>\n      <td>1295</td>\n      <td>NaN</td>\n    </tr>\n    <tr>\n      <th>38833</th>\n      <td>1296</td>\n      <td>NaN</td>\n    </tr>\n    <tr>\n      <th>38834</th>\n      <td>1307</td>\n      <td>NaN</td>\n    </tr>\n  </tbody>\n</table>\n</div>"
          },
          "metadata": {}
        }
      ]
    },
    {
      "cell_type": "code",
      "source": "rec_percentages[\"1526670549\"] = rec_percentages[\"similar\"] / rec_percentages[\"all\"]",
      "metadata": {
        "trusted": true
      },
      "execution_count": 103,
      "outputs": []
    },
    {
      "cell_type": "code",
      "source": "rec_percentages = rec_percentages.sort_values(\"1526670549\", ascending=False)",
      "metadata": {
        "trusted": true
      },
      "execution_count": 106,
      "outputs": []
    },
    {
      "cell_type": "code",
      "source": "rec_percentages",
      "metadata": {
        "trusted": true
      },
      "execution_count": 107,
      "outputs": [
        {
          "execution_count": 107,
          "output_type": "execute_result",
          "data": {
            "text/plain": "       similar  all  1526670549\n38712        1  NaN         NaN\n38715       21  NaN         NaN\n38716       25  NaN         NaN\n38717       32  NaN         NaN\n38718       36  NaN         NaN\n38719       52  NaN         NaN\n38720       58  NaN         NaN\n38721       62  NaN         NaN\n38724       85  NaN         NaN\n38726      123  NaN         NaN\n38730      194  NaN         NaN\n38734      232  NaN         NaN\n38735      235  NaN         NaN\n38738      265  NaN         NaN\n38741      296  NaN         NaN\n38742      300  NaN         NaN\n38745      306  NaN         NaN\n38746      307  NaN         NaN\n38747      308  NaN         NaN\n38748      318  NaN         NaN\n38750      337  NaN         NaN\n38760      471  NaN         NaN\n38766      534  NaN         NaN\n38768      538  NaN         NaN\n38772      588  NaN         NaN\n38774      595  NaN         NaN\n38775      608  NaN         NaN\n38781      714  NaN         NaN\n38782      728  NaN         NaN\n38783      750  NaN         NaN\n38784      778  NaN         NaN\n38786      908  NaN         NaN\n38787      912  NaN         NaN\n38793     1041  NaN         NaN\n38796     1079  NaN         NaN\n38797     1080  NaN         NaN\n38799     1094  NaN         NaN\n38800     1136  NaN         NaN\n38801     1172  NaN         NaN\n38803     1177  NaN         NaN\n38806     1193  NaN         NaN\n38808     1197  NaN         NaN\n38810     1199  NaN         NaN\n38811     1206  NaN         NaN\n38812     1208  NaN         NaN\n38818     1230  NaN         NaN\n38821     1235  NaN         NaN\n38822     1245  NaN         NaN\n38823     1246  NaN         NaN\n38824     1247  NaN         NaN\n38826     1265  NaN         NaN\n38827     1266  NaN         NaN\n38832     1295  NaN         NaN\n38833     1296  NaN         NaN\n38834     1307  NaN         NaN",
            "text/html": "<div>\n<style scoped>\n    .dataframe tbody tr th:only-of-type {\n        vertical-align: middle;\n    }\n\n    .dataframe tbody tr th {\n        vertical-align: top;\n    }\n\n    .dataframe thead th {\n        text-align: right;\n    }\n</style>\n<table border=\"1\" class=\"dataframe\">\n  <thead>\n    <tr style=\"text-align: right;\">\n      <th></th>\n      <th>similar</th>\n      <th>all</th>\n      <th>1526670549</th>\n    </tr>\n  </thead>\n  <tbody>\n    <tr>\n      <th>38712</th>\n      <td>1</td>\n      <td>NaN</td>\n      <td>NaN</td>\n    </tr>\n    <tr>\n      <th>38715</th>\n      <td>21</td>\n      <td>NaN</td>\n      <td>NaN</td>\n    </tr>\n    <tr>\n      <th>38716</th>\n      <td>25</td>\n      <td>NaN</td>\n      <td>NaN</td>\n    </tr>\n    <tr>\n      <th>38717</th>\n      <td>32</td>\n      <td>NaN</td>\n      <td>NaN</td>\n    </tr>\n    <tr>\n      <th>38718</th>\n      <td>36</td>\n      <td>NaN</td>\n      <td>NaN</td>\n    </tr>\n    <tr>\n      <th>38719</th>\n      <td>52</td>\n      <td>NaN</td>\n      <td>NaN</td>\n    </tr>\n    <tr>\n      <th>38720</th>\n      <td>58</td>\n      <td>NaN</td>\n      <td>NaN</td>\n    </tr>\n    <tr>\n      <th>38721</th>\n      <td>62</td>\n      <td>NaN</td>\n      <td>NaN</td>\n    </tr>\n    <tr>\n      <th>38724</th>\n      <td>85</td>\n      <td>NaN</td>\n      <td>NaN</td>\n    </tr>\n    <tr>\n      <th>38726</th>\n      <td>123</td>\n      <td>NaN</td>\n      <td>NaN</td>\n    </tr>\n    <tr>\n      <th>38730</th>\n      <td>194</td>\n      <td>NaN</td>\n      <td>NaN</td>\n    </tr>\n    <tr>\n      <th>38734</th>\n      <td>232</td>\n      <td>NaN</td>\n      <td>NaN</td>\n    </tr>\n    <tr>\n      <th>38735</th>\n      <td>235</td>\n      <td>NaN</td>\n      <td>NaN</td>\n    </tr>\n    <tr>\n      <th>38738</th>\n      <td>265</td>\n      <td>NaN</td>\n      <td>NaN</td>\n    </tr>\n    <tr>\n      <th>38741</th>\n      <td>296</td>\n      <td>NaN</td>\n      <td>NaN</td>\n    </tr>\n    <tr>\n      <th>38742</th>\n      <td>300</td>\n      <td>NaN</td>\n      <td>NaN</td>\n    </tr>\n    <tr>\n      <th>38745</th>\n      <td>306</td>\n      <td>NaN</td>\n      <td>NaN</td>\n    </tr>\n    <tr>\n      <th>38746</th>\n      <td>307</td>\n      <td>NaN</td>\n      <td>NaN</td>\n    </tr>\n    <tr>\n      <th>38747</th>\n      <td>308</td>\n      <td>NaN</td>\n      <td>NaN</td>\n    </tr>\n    <tr>\n      <th>38748</th>\n      <td>318</td>\n      <td>NaN</td>\n      <td>NaN</td>\n    </tr>\n    <tr>\n      <th>38750</th>\n      <td>337</td>\n      <td>NaN</td>\n      <td>NaN</td>\n    </tr>\n    <tr>\n      <th>38760</th>\n      <td>471</td>\n      <td>NaN</td>\n      <td>NaN</td>\n    </tr>\n    <tr>\n      <th>38766</th>\n      <td>534</td>\n      <td>NaN</td>\n      <td>NaN</td>\n    </tr>\n    <tr>\n      <th>38768</th>\n      <td>538</td>\n      <td>NaN</td>\n      <td>NaN</td>\n    </tr>\n    <tr>\n      <th>38772</th>\n      <td>588</td>\n      <td>NaN</td>\n      <td>NaN</td>\n    </tr>\n    <tr>\n      <th>38774</th>\n      <td>595</td>\n      <td>NaN</td>\n      <td>NaN</td>\n    </tr>\n    <tr>\n      <th>38775</th>\n      <td>608</td>\n      <td>NaN</td>\n      <td>NaN</td>\n    </tr>\n    <tr>\n      <th>38781</th>\n      <td>714</td>\n      <td>NaN</td>\n      <td>NaN</td>\n    </tr>\n    <tr>\n      <th>38782</th>\n      <td>728</td>\n      <td>NaN</td>\n      <td>NaN</td>\n    </tr>\n    <tr>\n      <th>38783</th>\n      <td>750</td>\n      <td>NaN</td>\n      <td>NaN</td>\n    </tr>\n    <tr>\n      <th>38784</th>\n      <td>778</td>\n      <td>NaN</td>\n      <td>NaN</td>\n    </tr>\n    <tr>\n      <th>38786</th>\n      <td>908</td>\n      <td>NaN</td>\n      <td>NaN</td>\n    </tr>\n    <tr>\n      <th>38787</th>\n      <td>912</td>\n      <td>NaN</td>\n      <td>NaN</td>\n    </tr>\n    <tr>\n      <th>38793</th>\n      <td>1041</td>\n      <td>NaN</td>\n      <td>NaN</td>\n    </tr>\n    <tr>\n      <th>38796</th>\n      <td>1079</td>\n      <td>NaN</td>\n      <td>NaN</td>\n    </tr>\n    <tr>\n      <th>38797</th>\n      <td>1080</td>\n      <td>NaN</td>\n      <td>NaN</td>\n    </tr>\n    <tr>\n      <th>38799</th>\n      <td>1094</td>\n      <td>NaN</td>\n      <td>NaN</td>\n    </tr>\n    <tr>\n      <th>38800</th>\n      <td>1136</td>\n      <td>NaN</td>\n      <td>NaN</td>\n    </tr>\n    <tr>\n      <th>38801</th>\n      <td>1172</td>\n      <td>NaN</td>\n      <td>NaN</td>\n    </tr>\n    <tr>\n      <th>38803</th>\n      <td>1177</td>\n      <td>NaN</td>\n      <td>NaN</td>\n    </tr>\n    <tr>\n      <th>38806</th>\n      <td>1193</td>\n      <td>NaN</td>\n      <td>NaN</td>\n    </tr>\n    <tr>\n      <th>38808</th>\n      <td>1197</td>\n      <td>NaN</td>\n      <td>NaN</td>\n    </tr>\n    <tr>\n      <th>38810</th>\n      <td>1199</td>\n      <td>NaN</td>\n      <td>NaN</td>\n    </tr>\n    <tr>\n      <th>38811</th>\n      <td>1206</td>\n      <td>NaN</td>\n      <td>NaN</td>\n    </tr>\n    <tr>\n      <th>38812</th>\n      <td>1208</td>\n      <td>NaN</td>\n      <td>NaN</td>\n    </tr>\n    <tr>\n      <th>38818</th>\n      <td>1230</td>\n      <td>NaN</td>\n      <td>NaN</td>\n    </tr>\n    <tr>\n      <th>38821</th>\n      <td>1235</td>\n      <td>NaN</td>\n      <td>NaN</td>\n    </tr>\n    <tr>\n      <th>38822</th>\n      <td>1245</td>\n      <td>NaN</td>\n      <td>NaN</td>\n    </tr>\n    <tr>\n      <th>38823</th>\n      <td>1246</td>\n      <td>NaN</td>\n      <td>NaN</td>\n    </tr>\n    <tr>\n      <th>38824</th>\n      <td>1247</td>\n      <td>NaN</td>\n      <td>NaN</td>\n    </tr>\n    <tr>\n      <th>38826</th>\n      <td>1265</td>\n      <td>NaN</td>\n      <td>NaN</td>\n    </tr>\n    <tr>\n      <th>38827</th>\n      <td>1266</td>\n      <td>NaN</td>\n      <td>NaN</td>\n    </tr>\n    <tr>\n      <th>38832</th>\n      <td>1295</td>\n      <td>NaN</td>\n      <td>NaN</td>\n    </tr>\n    <tr>\n      <th>38833</th>\n      <td>1296</td>\n      <td>NaN</td>\n      <td>NaN</td>\n    </tr>\n    <tr>\n      <th>38834</th>\n      <td>1307</td>\n      <td>NaN</td>\n      <td>NaN</td>\n    </tr>\n  </tbody>\n</table>\n</div>"
          },
          "metadata": {}
        }
      ]
    },
    {
      "cell_type": "code",
      "source": "rec_percentages.head(10).merge(movies, left_index = True, right_on=\"movieId\")",
      "metadata": {
        "trusted": true
      },
      "execution_count": 120,
      "outputs": [
        {
          "ename": "<class 'KeyError'>",
          "evalue": "'movieId'",
          "traceback": [
            "\u001b[0;31m---------------------------------------------------------------------------\u001b[0m",
            "\u001b[0;31mKeyError\u001b[0m                                  Traceback (most recent call last)",
            "Input \u001b[0;32mIn [120]\u001b[0m, in \u001b[0;36m<cell line: 1>\u001b[0;34m()\u001b[0m\n\u001b[0;32m----> 1\u001b[0m \u001b[43mrec_percentages\u001b[49m\u001b[38;5;241;43m.\u001b[39;49m\u001b[43mhead\u001b[49m\u001b[43m(\u001b[49m\u001b[38;5;241;43m10\u001b[39;49m\u001b[43m)\u001b[49m\u001b[38;5;241;43m.\u001b[39;49m\u001b[43mmerge\u001b[49m\u001b[43m(\u001b[49m\u001b[43mmovies\u001b[49m\u001b[43m,\u001b[49m\u001b[43m \u001b[49m\u001b[43mleft_index\u001b[49m\u001b[43m \u001b[49m\u001b[38;5;241;43m=\u001b[39;49m\u001b[43m \u001b[49m\u001b[38;5;28;43;01mTrue\u001b[39;49;00m\u001b[43m,\u001b[49m\u001b[43m \u001b[49m\u001b[43mright_on\u001b[49m\u001b[38;5;241;43m=\u001b[39;49m\u001b[38;5;124;43m\"\u001b[39;49m\u001b[38;5;124;43mmovieId\u001b[39;49m\u001b[38;5;124;43m\"\u001b[39;49m\u001b[43m)\u001b[49m\n",
            "File \u001b[0;32m/lib/python3.10/site-packages/pandas/core/frame.py:9345\u001b[0m, in \u001b[0;36mDataFrame.merge\u001b[0;34m(self, right, how, on, left_on, right_on, left_index, right_index, sort, suffixes, copy, indicator, validate)\u001b[0m\n\u001b[1;32m   9326\u001b[0m \u001b[38;5;129m@Substitution\u001b[39m(\u001b[38;5;124m\"\u001b[39m\u001b[38;5;124m\"\u001b[39m)\n\u001b[1;32m   9327\u001b[0m \u001b[38;5;129m@Appender\u001b[39m(_merge_doc, indents\u001b[38;5;241m=\u001b[39m\u001b[38;5;241m2\u001b[39m)\n\u001b[1;32m   9328\u001b[0m \u001b[38;5;28;01mdef\u001b[39;00m \u001b[38;5;21mmerge\u001b[39m(\n\u001b[0;32m   (...)\u001b[0m\n\u001b[1;32m   9341\u001b[0m     validate: \u001b[38;5;28mstr\u001b[39m \u001b[38;5;241m|\u001b[39m \u001b[38;5;28;01mNone\u001b[39;00m \u001b[38;5;241m=\u001b[39m \u001b[38;5;28;01mNone\u001b[39;00m,\n\u001b[1;32m   9342\u001b[0m ) \u001b[38;5;241m-\u001b[39m\u001b[38;5;241m>\u001b[39m DataFrame:\n\u001b[1;32m   9343\u001b[0m     \u001b[38;5;28;01mfrom\u001b[39;00m \u001b[38;5;21;01mpandas\u001b[39;00m\u001b[38;5;21;01m.\u001b[39;00m\u001b[38;5;21;01mcore\u001b[39;00m\u001b[38;5;21;01m.\u001b[39;00m\u001b[38;5;21;01mreshape\u001b[39;00m\u001b[38;5;21;01m.\u001b[39;00m\u001b[38;5;21;01mmerge\u001b[39;00m \u001b[38;5;28;01mimport\u001b[39;00m merge\n\u001b[0;32m-> 9345\u001b[0m     \u001b[38;5;28;01mreturn\u001b[39;00m \u001b[43mmerge\u001b[49m\u001b[43m(\u001b[49m\n\u001b[1;32m   9346\u001b[0m \u001b[43m        \u001b[49m\u001b[38;5;28;43mself\u001b[39;49m\u001b[43m,\u001b[49m\n\u001b[1;32m   9347\u001b[0m \u001b[43m        \u001b[49m\u001b[43mright\u001b[49m\u001b[43m,\u001b[49m\n\u001b[1;32m   9348\u001b[0m \u001b[43m        \u001b[49m\u001b[43mhow\u001b[49m\u001b[38;5;241;43m=\u001b[39;49m\u001b[43mhow\u001b[49m\u001b[43m,\u001b[49m\n\u001b[1;32m   9349\u001b[0m \u001b[43m        \u001b[49m\u001b[43mon\u001b[49m\u001b[38;5;241;43m=\u001b[39;49m\u001b[43mon\u001b[49m\u001b[43m,\u001b[49m\n\u001b[1;32m   9350\u001b[0m \u001b[43m        \u001b[49m\u001b[43mleft_on\u001b[49m\u001b[38;5;241;43m=\u001b[39;49m\u001b[43mleft_on\u001b[49m\u001b[43m,\u001b[49m\n\u001b[1;32m   9351\u001b[0m \u001b[43m        \u001b[49m\u001b[43mright_on\u001b[49m\u001b[38;5;241;43m=\u001b[39;49m\u001b[43mright_on\u001b[49m\u001b[43m,\u001b[49m\n\u001b[1;32m   9352\u001b[0m \u001b[43m        \u001b[49m\u001b[43mleft_index\u001b[49m\u001b[38;5;241;43m=\u001b[39;49m\u001b[43mleft_index\u001b[49m\u001b[43m,\u001b[49m\n\u001b[1;32m   9353\u001b[0m \u001b[43m        \u001b[49m\u001b[43mright_index\u001b[49m\u001b[38;5;241;43m=\u001b[39;49m\u001b[43mright_index\u001b[49m\u001b[43m,\u001b[49m\n\u001b[1;32m   9354\u001b[0m \u001b[43m        \u001b[49m\u001b[43msort\u001b[49m\u001b[38;5;241;43m=\u001b[39;49m\u001b[43msort\u001b[49m\u001b[43m,\u001b[49m\n\u001b[1;32m   9355\u001b[0m \u001b[43m        \u001b[49m\u001b[43msuffixes\u001b[49m\u001b[38;5;241;43m=\u001b[39;49m\u001b[43msuffixes\u001b[49m\u001b[43m,\u001b[49m\n\u001b[1;32m   9356\u001b[0m \u001b[43m        \u001b[49m\u001b[43mcopy\u001b[49m\u001b[38;5;241;43m=\u001b[39;49m\u001b[43mcopy\u001b[49m\u001b[43m,\u001b[49m\n\u001b[1;32m   9357\u001b[0m \u001b[43m        \u001b[49m\u001b[43mindicator\u001b[49m\u001b[38;5;241;43m=\u001b[39;49m\u001b[43mindicator\u001b[49m\u001b[43m,\u001b[49m\n\u001b[1;32m   9358\u001b[0m \u001b[43m        \u001b[49m\u001b[43mvalidate\u001b[49m\u001b[38;5;241;43m=\u001b[39;49m\u001b[43mvalidate\u001b[49m\u001b[43m,\u001b[49m\n\u001b[1;32m   9359\u001b[0m \u001b[43m    \u001b[49m\u001b[43m)\u001b[49m\n",
            "File \u001b[0;32m/lib/python3.10/site-packages/pandas/core/reshape/merge.py:107\u001b[0m, in \u001b[0;36mmerge\u001b[0;34m(left, right, how, on, left_on, right_on, left_index, right_index, sort, suffixes, copy, indicator, validate)\u001b[0m\n\u001b[1;32m     90\u001b[0m \u001b[38;5;129m@Substitution\u001b[39m(\u001b[38;5;124m\"\u001b[39m\u001b[38;5;130;01m\\n\u001b[39;00m\u001b[38;5;124mleft : DataFrame or named Series\u001b[39m\u001b[38;5;124m\"\u001b[39m)\n\u001b[1;32m     91\u001b[0m \u001b[38;5;129m@Appender\u001b[39m(_merge_doc, indents\u001b[38;5;241m=\u001b[39m\u001b[38;5;241m0\u001b[39m)\n\u001b[1;32m     92\u001b[0m \u001b[38;5;28;01mdef\u001b[39;00m \u001b[38;5;21mmerge\u001b[39m(\n\u001b[0;32m   (...)\u001b[0m\n\u001b[1;32m    105\u001b[0m     validate: \u001b[38;5;28mstr\u001b[39m \u001b[38;5;241m|\u001b[39m \u001b[38;5;28;01mNone\u001b[39;00m \u001b[38;5;241m=\u001b[39m \u001b[38;5;28;01mNone\u001b[39;00m,\n\u001b[1;32m    106\u001b[0m ) \u001b[38;5;241m-\u001b[39m\u001b[38;5;241m>\u001b[39m DataFrame:\n\u001b[0;32m--> 107\u001b[0m     op \u001b[38;5;241m=\u001b[39m \u001b[43m_MergeOperation\u001b[49m\u001b[43m(\u001b[49m\n\u001b[1;32m    108\u001b[0m \u001b[43m        \u001b[49m\u001b[43mleft\u001b[49m\u001b[43m,\u001b[49m\n\u001b[1;32m    109\u001b[0m \u001b[43m        \u001b[49m\u001b[43mright\u001b[49m\u001b[43m,\u001b[49m\n\u001b[1;32m    110\u001b[0m \u001b[43m        \u001b[49m\u001b[43mhow\u001b[49m\u001b[38;5;241;43m=\u001b[39;49m\u001b[43mhow\u001b[49m\u001b[43m,\u001b[49m\n\u001b[1;32m    111\u001b[0m \u001b[43m        \u001b[49m\u001b[43mon\u001b[49m\u001b[38;5;241;43m=\u001b[39;49m\u001b[43mon\u001b[49m\u001b[43m,\u001b[49m\n\u001b[1;32m    112\u001b[0m \u001b[43m        \u001b[49m\u001b[43mleft_on\u001b[49m\u001b[38;5;241;43m=\u001b[39;49m\u001b[43mleft_on\u001b[49m\u001b[43m,\u001b[49m\n\u001b[1;32m    113\u001b[0m \u001b[43m        \u001b[49m\u001b[43mright_on\u001b[49m\u001b[38;5;241;43m=\u001b[39;49m\u001b[43mright_on\u001b[49m\u001b[43m,\u001b[49m\n\u001b[1;32m    114\u001b[0m \u001b[43m        \u001b[49m\u001b[43mleft_index\u001b[49m\u001b[38;5;241;43m=\u001b[39;49m\u001b[43mleft_index\u001b[49m\u001b[43m,\u001b[49m\n\u001b[1;32m    115\u001b[0m \u001b[43m        \u001b[49m\u001b[43mright_index\u001b[49m\u001b[38;5;241;43m=\u001b[39;49m\u001b[43mright_index\u001b[49m\u001b[43m,\u001b[49m\n\u001b[1;32m    116\u001b[0m \u001b[43m        \u001b[49m\u001b[43msort\u001b[49m\u001b[38;5;241;43m=\u001b[39;49m\u001b[43msort\u001b[49m\u001b[43m,\u001b[49m\n\u001b[1;32m    117\u001b[0m \u001b[43m        \u001b[49m\u001b[43msuffixes\u001b[49m\u001b[38;5;241;43m=\u001b[39;49m\u001b[43msuffixes\u001b[49m\u001b[43m,\u001b[49m\n\u001b[1;32m    118\u001b[0m \u001b[43m        \u001b[49m\u001b[43mcopy\u001b[49m\u001b[38;5;241;43m=\u001b[39;49m\u001b[43mcopy\u001b[49m\u001b[43m,\u001b[49m\n\u001b[1;32m    119\u001b[0m \u001b[43m        \u001b[49m\u001b[43mindicator\u001b[49m\u001b[38;5;241;43m=\u001b[39;49m\u001b[43mindicator\u001b[49m\u001b[43m,\u001b[49m\n\u001b[1;32m    120\u001b[0m \u001b[43m        \u001b[49m\u001b[43mvalidate\u001b[49m\u001b[38;5;241;43m=\u001b[39;49m\u001b[43mvalidate\u001b[49m\u001b[43m,\u001b[49m\n\u001b[1;32m    121\u001b[0m \u001b[43m    \u001b[49m\u001b[43m)\u001b[49m\n\u001b[1;32m    122\u001b[0m     \u001b[38;5;28;01mreturn\u001b[39;00m op\u001b[38;5;241m.\u001b[39mget_result()\n",
            "File \u001b[0;32m/lib/python3.10/site-packages/pandas/core/reshape/merge.py:700\u001b[0m, in \u001b[0;36m_MergeOperation.__init__\u001b[0;34m(self, left, right, how, on, left_on, right_on, axis, left_index, right_index, sort, suffixes, copy, indicator, validate)\u001b[0m\n\u001b[1;32m    693\u001b[0m \u001b[38;5;28mself\u001b[39m\u001b[38;5;241m.\u001b[39m_cross \u001b[38;5;241m=\u001b[39m cross_col\n\u001b[1;32m    695\u001b[0m \u001b[38;5;66;03m# note this function has side effects\u001b[39;00m\n\u001b[1;32m    696\u001b[0m (\n\u001b[1;32m    697\u001b[0m     \u001b[38;5;28mself\u001b[39m\u001b[38;5;241m.\u001b[39mleft_join_keys,\n\u001b[1;32m    698\u001b[0m     \u001b[38;5;28mself\u001b[39m\u001b[38;5;241m.\u001b[39mright_join_keys,\n\u001b[1;32m    699\u001b[0m     \u001b[38;5;28mself\u001b[39m\u001b[38;5;241m.\u001b[39mjoin_names,\n\u001b[0;32m--> 700\u001b[0m ) \u001b[38;5;241m=\u001b[39m \u001b[38;5;28;43mself\u001b[39;49m\u001b[38;5;241;43m.\u001b[39;49m\u001b[43m_get_merge_keys\u001b[49m\u001b[43m(\u001b[49m\u001b[43m)\u001b[49m\n\u001b[1;32m    702\u001b[0m \u001b[38;5;66;03m# validate the merge keys dtypes. We may need to coerce\u001b[39;00m\n\u001b[1;32m    703\u001b[0m \u001b[38;5;66;03m# to avoid incompatible dtypes\u001b[39;00m\n\u001b[1;32m    704\u001b[0m \u001b[38;5;28mself\u001b[39m\u001b[38;5;241m.\u001b[39m_maybe_coerce_merge_keys()\n",
            "File \u001b[0;32m/lib/python3.10/site-packages/pandas/core/reshape/merge.py:1139\u001b[0m, in \u001b[0;36m_MergeOperation._get_merge_keys\u001b[0;34m(self)\u001b[0m\n\u001b[1;32m   1137\u001b[0m         join_names\u001b[38;5;241m.\u001b[39mappend(\u001b[38;5;28;01mNone\u001b[39;00m)\n\u001b[1;32m   1138\u001b[0m     \u001b[38;5;28;01melse\u001b[39;00m:\n\u001b[0;32m-> 1139\u001b[0m         right_keys\u001b[38;5;241m.\u001b[39mappend(\u001b[43mright\u001b[49m\u001b[38;5;241;43m.\u001b[39;49m\u001b[43m_get_label_or_level_values\u001b[49m\u001b[43m(\u001b[49m\u001b[43mk\u001b[49m\u001b[43m)\u001b[49m)\n\u001b[1;32m   1140\u001b[0m         join_names\u001b[38;5;241m.\u001b[39mappend(k)\n\u001b[1;32m   1141\u001b[0m \u001b[38;5;28;01mif\u001b[39;00m \u001b[38;5;28misinstance\u001b[39m(\u001b[38;5;28mself\u001b[39m\u001b[38;5;241m.\u001b[39mleft\u001b[38;5;241m.\u001b[39mindex, MultiIndex):\n",
            "File \u001b[0;32m/lib/python3.10/site-packages/pandas/core/generic.py:1840\u001b[0m, in \u001b[0;36mNDFrame._get_label_or_level_values\u001b[0;34m(self, key, axis)\u001b[0m\n\u001b[1;32m   1838\u001b[0m     values \u001b[38;5;241m=\u001b[39m \u001b[38;5;28mself\u001b[39m\u001b[38;5;241m.\u001b[39maxes[axis]\u001b[38;5;241m.\u001b[39mget_level_values(key)\u001b[38;5;241m.\u001b[39m_values\n\u001b[1;32m   1839\u001b[0m \u001b[38;5;28;01melse\u001b[39;00m:\n\u001b[0;32m-> 1840\u001b[0m     \u001b[38;5;28;01mraise\u001b[39;00m \u001b[38;5;167;01mKeyError\u001b[39;00m(key)\n\u001b[1;32m   1842\u001b[0m \u001b[38;5;66;03m# Check for duplicates\u001b[39;00m\n\u001b[1;32m   1843\u001b[0m \u001b[38;5;28;01mif\u001b[39;00m values\u001b[38;5;241m.\u001b[39mndim \u001b[38;5;241m>\u001b[39m \u001b[38;5;241m1\u001b[39m:\n",
            "\u001b[0;31mKeyError\u001b[0m: 'movieId'"
          ],
          "output_type": "error"
        }
      ]
    },
    {
      "cell_type": "code",
      "source": "def find_similar_movies(movie_id):\n    similar_users = ratings[(ratings[\"movieId\"] == movie_id) & (ratings[\"rating\"] > 4)][\"userId\"].unique()\n    similar_users_recs = ratings[(ratings[\"userId\"].isin(similar_users)) & (ratings[\"rating\"] > 4)][\"movieId\"]\n    \n    similar_users_recs = similar_users_recs.value_counts() / len(similar_users)\n    similar_users_recs = similar_users_recs[similar_users_recs > .10]\n    \n    all_users = ratings[(ratings[\"movieId\"].isin(similar_users_recs.index)) & (ratings[\"rating\"] > 4)]\n    all_users_recs = all_users[\"movieId\"].value_counts() / len(all_users[\"userId\"].unique())\n    \n    rec_percentages = pd.concat([similar_users_recs, all_users_recs], axis=1)\n    rec_percentages.columns = [\"similar\", \"all\"]\n    \n    rec_percentages[\"score\"] = rec_percentages[\"similar\"] / rec_percentages[\"all\"]\n    \n    rec_percentages = rec_percentages.sort_values(\"score\", ascending = False)\n    return rec_percentages.head(10).merge(movies, left_index = True, right_on = \"movieId\")[[\"score\", \"title\", \"genres\"]]",
      "metadata": {
        "trusted": true
      },
      "execution_count": 119,
      "outputs": []
    },
    {
      "cell_type": "code",
      "source": "movie_name_input = widgets.Text(\n    value = \"Toy Story\",\n    description = \"Movie Title:\",\n    disabled = False\n)\n\nrecommendation_list = widgets.Output()\n\ndef on_type(data):\n    with recommendation_list:\n        recommendation_list.clear_output()\n        title = data[\"new\"]\n        if len(title) > 5:\n            results = search(title)\n            movie_id = results.iloc[0][\"movieId\"]\n            display(find_similar_movie(movie_id))\n            \nmovie_name_input.observe(on_type, names=\"value\")\n\ndisplay(movie_name_input, recommendation_list)",
      "metadata": {
        "trusted": true
      },
      "execution_count": 123,
      "outputs": [
        {
          "ename": "<class 'NameError'>",
          "evalue": "name 'widgets' is not defined",
          "traceback": [
            "\u001b[0;31m---------------------------------------------------------------------------\u001b[0m",
            "\u001b[0;31mNameError\u001b[0m                                 Traceback (most recent call last)",
            "Input \u001b[0;32mIn [123]\u001b[0m, in \u001b[0;36m<cell line: 1>\u001b[0;34m()\u001b[0m\n\u001b[0;32m----> 1\u001b[0m movie_name_input \u001b[38;5;241m=\u001b[39m \u001b[43mwidgets\u001b[49m\u001b[38;5;241m.\u001b[39mText(\n\u001b[1;32m      2\u001b[0m     value \u001b[38;5;241m=\u001b[39m \u001b[38;5;124m\"\u001b[39m\u001b[38;5;124mToy Story\u001b[39m\u001b[38;5;124m\"\u001b[39m,\n\u001b[1;32m      3\u001b[0m     description \u001b[38;5;241m=\u001b[39m \u001b[38;5;124m\"\u001b[39m\u001b[38;5;124mMovie Title:\u001b[39m\u001b[38;5;124m\"\u001b[39m,\n\u001b[1;32m      4\u001b[0m     disabled \u001b[38;5;241m=\u001b[39m \u001b[38;5;28;01mFalse\u001b[39;00m\n\u001b[1;32m      5\u001b[0m )\n\u001b[1;32m      7\u001b[0m recommendation_list \u001b[38;5;241m=\u001b[39m widgets\u001b[38;5;241m.\u001b[39mOutput()\n\u001b[1;32m      9\u001b[0m \u001b[38;5;28;01mdef\u001b[39;00m \u001b[38;5;21mon_type\u001b[39m(data):\n",
            "\u001b[0;31mNameError\u001b[0m: name 'widgets' is not defined"
          ],
          "output_type": "error"
        }
      ]
    },
    {
      "cell_type": "code",
      "source": "",
      "metadata": {},
      "execution_count": null,
      "outputs": []
    }
  ]
}